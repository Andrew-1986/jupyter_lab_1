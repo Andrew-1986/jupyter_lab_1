{
 "cells": [
  {
   "cell_type": "markdown",
   "id": "7e50a6c2-076f-45b1-b636-780e51ba59ae",
   "metadata": {},
   "source": [
    "# Инструменты и экосистема Data Science"
   ]
  },
  {
   "cell_type": "markdown",
   "id": "b70febb4-b562-4414-947c-a608c85437b0",
   "metadata": {},
   "source": [
    "В этом блокноте обобщены инструменты и экосистема Data Science."
   ]
  },
  {
   "cell_type": "markdown",
   "id": "1a740daf-ac92-4a6f-8cc7-2d8860a55a1c",
   "metadata": {},
   "source": [
    "Некоторые из популярных языков, которые используют специалисты по Data Science:\n",
    "\n",
    "1. Python\n",
    "2. R\n",
    "3. SQL\n",
    "4. Java\n",
    "5. Julia\n"
   ]
  },
  {
   "cell_type": "markdown",
   "id": "091080b9-4c26-4d45-8474-17880ed2a603",
   "metadata": {},
   "source": [
    "Некоторые из широко используемых библиотек, используемых специалистами по Data Science, включают:\n",
    "\n",
    "1. Pandas\n",
    "2. NumPy\n",
    "3. Matplotlib\n",
    "4. Scikit-learn\n",
    "5. TensorFlow\n"
   ]
  },
  {
   "cell_type": "markdown",
   "id": "3e969509-dca1-48c8-8cb2-52433205b633",
   "metadata": {},
   "source": [
    "| Инструменты Data Science     |\n",
    "|-----------------------------|\n",
    "| Jupyter Notebook            |\n",
    "| RStudio                     |\n",
    "| Apache Spark                |\n"
   ]
  },
  {
   "cell_type": "markdown",
   "id": "f65a0ff6-8584-4ddd-9a43-bb4466e59450",
   "metadata": {},
   "source": [
    "### Ниже приведены несколько примеров оценки арифметических выражений в Python"
   ]
  },
  {
   "cell_type": "code",
   "execution_count": 1,
   "id": "efe56a4d-017b-4782-9f0b-eaa520e47458",
   "metadata": {},
   "outputs": [
    {
     "data": {
      "text/plain": [
       "17"
      ]
     },
     "execution_count": 1,
     "metadata": {},
     "output_type": "execute_result"
    }
   ],
   "source": [
    "# Это простое арифметическое выражение для умножения, а затем сложения целых чисел\n",
    "(3 * 4) + 5"
   ]
  },
  {
   "cell_type": "code",
   "execution_count": 2,
   "id": "1cb8e23a-f518-4138-a6ad-5da31888bbdd",
   "metadata": {},
   "outputs": [
    {
     "data": {
      "text/plain": [
       "3.3333333333333335"
      ]
     },
     "execution_count": 2,
     "metadata": {},
     "output_type": "execute_result"
    }
   ],
   "source": [
    "# Это преобразует 200 минут в часы, деля на 60\n",
    "200 / 60"
   ]
  },
  {
   "cell_type": "markdown",
   "id": "c9d0af7e-23c0-4dbb-9ba5-b193c1765832",
   "metadata": {},
   "source": [
    "**Цели:**\n",
    "\n",
    "- Перечислить популярные языки для Data Science\n",
    "- Перечислить популярные библиотеки для Data Science\n",
    "- Показать примеры арифметических выражений в Python\n",
    "- Продемонстрировать преобразование единиц (например, минут в часы)\n",
    "- Перечислить инструменты с открытым исходным кодом, используемые в Data Science"
   ]
  },
  {
   "cell_type": "markdown",
   "id": "11cd34af-fac2-41eb-9171-0d3e4c6c4eb5",
   "metadata": {},
   "source": [
    "## Автор\n",
    "Андрей"
   ]
  },
  {
   "cell_type": "code",
   "execution_count": null,
   "id": "14aca9d6-754b-4dd4-8a65-13cd0695d45b",
   "metadata": {},
   "outputs": [],
   "source": []
  }
 ],
 "metadata": {
  "kernelspec": {
   "display_name": "Python 3 (ipykernel)",
   "language": "python",
   "name": "python3"
  },
  "language_info": {
   "codemirror_mode": {
    "name": "ipython",
    "version": 3
   },
   "file_extension": ".py",
   "mimetype": "text/x-python",
   "name": "python",
   "nbconvert_exporter": "python",
   "pygments_lexer": "ipython3",
   "version": "3.11.9"
  }
 },
 "nbformat": 4,
 "nbformat_minor": 5
}
